{
 "cells": [
  {
   "attachments": {},
   "cell_type": "markdown",
   "metadata": {},
   "source": [
    "首先import"
   ]
  },
  {
   "cell_type": "code",
   "execution_count": null,
   "metadata": {},
   "outputs": [],
   "source": [
    "import math, copy, time\n",
    "import torch\n",
    "import numpy as np\n",
    "import torch.nn as nn\n",
    "import torch.optim as optim\n",
    "import torch.utils.data as Data"
   ]
  },
  {
   "attachments": {},
   "cell_type": "markdown",
   "metadata": {},
   "source": [
    "检查一下设备"
   ]
  },
  {
   "cell_type": "code",
   "execution_count": null,
   "metadata": {},
   "outputs": [],
   "source": [
    "print(torch.cuda.is_available())\n",
    "print(torch.cuda.current_device())"
   ]
  },
  {
   "attachments": {},
   "cell_type": "markdown",
   "metadata": {},
   "source": [
    "模型参数"
   ]
  },
  {
   "cell_type": "code",
   "execution_count": null,
   "metadata": {},
   "outputs": [],
   "source": [
    "d_model = 768  # Embedding Size\n",
    "d_ff = 3072 # FeedForward dimension, 4*h\n",
    "d_k = d_v = 64  # dimension of K(=Q), V\n",
    "n_layers = 12  # number of Encoder of Decoder Layer\n",
    "n_heads = 12  # number of heads in Multi-Head Attention\n",
    "n_vocab = 50257\n",
    "max_context_len = 256"
   ]
  },
  {
   "cell_type": "code",
   "execution_count": null,
   "metadata": {},
   "outputs": [],
   "source": [
    "def clones(module, N):\n",
    "    \"Produce N identical layers.\"\n",
    "    return nn.ModuleList([copy.deepcopy(module) for _ in range(N)])"
   ]
  },
  {
   "attachments": {},
   "cell_type": "markdown",
   "metadata": {},
   "source": [
    "embedding层(包含输入和输出的embedding)"
   ]
  },
  {
   "cell_type": "code",
   "execution_count": null,
   "metadata": {},
   "outputs": [],
   "source": [
    "class Embeddings(nn.Module):\n",
    "    def __init__(self):\n",
    "        super(Embeddings, self).__init__()\n",
    "\n",
    "        self.lut = nn.Embedding(n_vocab, d_model)   # 生成随机正态分布的embedding\n",
    "        \n",
    "    def forward(self,x):\n",
    "        return self.lut(x) * math.sqrt(d_model)     # annotated 建议乘根号dmodel"
   ]
  },
  {
   "attachments": {},
   "cell_type": "markdown",
   "metadata": {},
   "source": [
    "位置编码(dropout=0.1)"
   ]
  },
  {
   "cell_type": "code",
   "execution_count": null,
   "metadata": {},
   "outputs": [],
   "source": [
    "class PositionEncoding(nn.Module):\n",
    "    def __init__(self, dropout=0.1, max_len=4096):\n",
    "        super(PositionEncoding, self).__init__()\n",
    "        self.dropout = nn.Dropout(p=dropout)\n",
    "        \n",
    "        pe = torch.zeros(max_len, d_model)\n",
    "        pos = torch.arange(0, max_len, dtype=torch.float).unsqueeze(1)\n",
    "        denominator = torch.exp(torch.arange(0, d_model, 2).float() * (-math.log(10000.0) / d_model))\n",
    "        pe[:, 0::2] = torch.sin(pos * denominator)\n",
    "        pe[:, 1::2] = torch.cos(pos * denominator)\n",
    "        pe = pe.unsqueeze(0).transpose(0, 1)    #得到 [max_len, 1, d_model]\n",
    "        self.register_buffer('pe', pe)\n",
    "\n",
    "    def forward(self, x):\n",
    "        '''\n",
    "        x: [seq_len, batch_size, d_model]\n",
    "        '''\n",
    "        #print(x.shape)\n",
    "        #print(self.pe.shape)\n",
    "        x = x + self.pe[:x.size(0), :]\n",
    "        x = self.dropout(x)\n",
    "        return x     #在 d_model 维度上对 x 做归一化"
   ]
  },
  {
   "attachments": {},
   "cell_type": "markdown",
   "metadata": {},
   "source": [
    "注意力机制"
   ]
  },
  {
   "cell_type": "code",
   "execution_count": null,
   "metadata": {},
   "outputs": [],
   "source": [
    "def attn_padmask(pad_mask): # [batch_size,max_length]\n",
    "    batch_size, len = pad_mask.size()\n",
    "    \n",
    "    pad_attn_mask = pad_mask.unsqueeze(1)   #为0的全部标为 True, [batch_size, 1, len_k]\n",
    "    return pad_attn_mask.expand(batch_size, len, len)   # [batch_size, len_q, len_k]\n",
    "\n",
    "def attn_mask(seq):\n",
    "    attn_shape = [seq.size(0), seq.size(1), seq.size(1)]\n",
    "    mask = np.triu(np.ones(attn_shape), k=1)    # 对角线为0的上三角\n",
    "    return torch.from_numpy(mask).bool()     # [batch_size, tgt_len, tgt_len]"
   ]
  },
  {
   "cell_type": "code",
   "execution_count": null,
   "metadata": {},
   "outputs": [],
   "source": [
    "class SDPAttn(nn.Module):\n",
    "    def __init__(self):\n",
    "        super(SDPAttn, self).__init__()\n",
    "\n",
    "    def forward(self, Q, K, V, attnmask=None, dropout=None):\n",
    "        scores = torch.matmul(Q, K.transpose(-1, -2)) / np.sqrt(d_k)    # [batch_size, n_heads, len_q, len_k]\n",
    "        if attnmask is not None:\n",
    "            scores.masked_fill_(attnmask, -1e9) # Fills elements of self tensor with value where mask is True.\n",
    "        \n",
    "        attn = nn.Softmax(dim=-1)(scores)\n",
    "        if dropout is not None:\n",
    "            attn = dropout(attn)\n",
    "        return torch.matmul(attn, V), attn    # [batch_size, n_heads, len_q, d_v]"
   ]
  },
  {
   "attachments": {},
   "cell_type": "markdown",
   "metadata": {},
   "source": [
    "多头注意力机制"
   ]
  },
  {
   "cell_type": "code",
   "execution_count": null,
   "metadata": {},
   "outputs": [],
   "source": [
    "class MultiHeadAttn(nn.Module):\n",
    "    def __init__(self,dropout=0.1):\n",
    "        super(MultiHeadAttn, self).__init__()\n",
    "        assert d_model % n_heads == 0\n",
    "        self.linears = clones(nn.Linear(d_model, d_model), 4)\n",
    "        self.attn = None\n",
    "        self.SDPAttn = SDPAttn()\n",
    "        self.dropout = nn.Dropout(p=dropout)\n",
    "\n",
    "    def forward(self, Q, K, V, attn_mask=None):\n",
    "        batch_size = Q.size(0)\n",
    "        \n",
    "        Q, K, V = \\\n",
    "            [l(x).view(batch_size, -1, n_heads, d_k).transpose(1, 2)\n",
    "             for l, x in zip(self.linears, (Q, K, V))]\n",
    "        \n",
    "        if attn_mask is not None:\n",
    "            attn_mask = attn_mask.unsqueeze(1).repeat(1, n_heads, 1, 1) # attn_mask : [batch_size, n_heads, seq_len, seq_len]\n",
    "\n",
    "        context, self.attn = self.SDPAttn.forward(Q, K, V, attnmask=attn_mask)\n",
    "        context = context.transpose(1, 2).reshape(batch_size, -1, n_heads * d_v) # context: [batch_size, len_q, n_heads * d_v]\n",
    "        output = self.linears[-1](context) # [batch_size, len_q, d_model]\n",
    "        return output"
   ]
  },
  {
   "attachments": {},
   "cell_type": "markdown",
   "metadata": {},
   "source": [
    "全连接层"
   ]
  },
  {
   "cell_type": "code",
   "execution_count": null,
   "metadata": {},
   "outputs": [],
   "source": [
    "class FeedForward(nn.Module):\n",
    "    def __init__(self, dropout=0.1):\n",
    "        super(FeedForward, self).__init__()\n",
    "        self.w_1 = nn.Linear(d_model, d_ff)\n",
    "        self.w_2 = nn.Linear(d_ff, d_model)\n",
    "        self.dropout = nn.Dropout(dropout)\n",
    "        self.relu = nn.ReLU()\n",
    "\n",
    "    def forward(self, x):\n",
    "        #residual = x\n",
    "        output = self.w_2(self.dropout(self.relu(self.w_1(x))))   # w1->relu->dropout->w2\n",
    "        return output   #nn.LayerNorm(d_model)(output) # [batch_size, seq_len, d_model]"
   ]
  },
  {
   "attachments": {},
   "cell_type": "markdown",
   "metadata": {},
   "source": [
    "设置 Decoder Layer"
   ]
  },
  {
   "cell_type": "code",
   "execution_count": null,
   "metadata": {},
   "outputs": [],
   "source": [
    "class DecoderLayer(nn.Module):\n",
    "    def __init__(self):\n",
    "        super(DecoderLayer, self).__init__()\n",
    "        self.dec_attn = MultiHeadAttn()\n",
    "        self.layernorm = nn.LayerNorm(d_model)\n",
    "        self.ffn = FeedForward()\n",
    "\n",
    "    def forward(self, dec_inputs, attn_mask):\n",
    "        # outputs: [batch_size, tgt_len, d_model]\n",
    "        residual = dec_inputs\n",
    "        dec_inputs = self.layernorm(dec_inputs)\n",
    "        attn_output = self.dec_attn(dec_inputs, dec_inputs, dec_inputs, attn_mask=attn_mask)\n",
    "        # 第一次残差\n",
    "        layernorm_output = self.layernorm(attn_output + residual)\n",
    "        outputs = self.ffn(layernorm_output) # [batch_size, tgt_len, d_model]\n",
    "        # 第二次残差\n",
    "        outputs = attn_output+residual+outputs\n",
    "\n",
    "        return outputs"
   ]
  },
  {
   "attachments": {},
   "cell_type": "markdown",
   "metadata": {},
   "source": [
    "Decoder"
   ]
  },
  {
   "cell_type": "code",
   "execution_count": null,
   "metadata": {},
   "outputs": [],
   "source": [
    "class Decoder(nn.Module):\n",
    "    def __init__(self):\n",
    "        super(Decoder, self).__init__()\n",
    "        self.emb = Embeddings()\n",
    "        self.pos_enc = PositionEncoding()\n",
    "        self.layernorm = nn.LayerNorm(d_model)\n",
    "        self.layers = nn.ModuleList([DecoderLayer() for _ in range(n_layers)])\n",
    "        self.ffn = FeedForward()\n",
    "\n",
    "    def forward(self, dec_inputs, pad_mask):\n",
    "        '''\n",
    "        dec_inputs: [batch_size, tgt_len]\n",
    "        '''\n",
    "        # print(dec_inputs)\n",
    "        dec_outputs = self.emb(dec_inputs)  # [batch_size, seq_len, d_model]\n",
    "        # print(\"emb\",dec_outputs)\n",
    "        dec_outputs = self.pos_enc(dec_outputs.transpose(0, 1))#.cuda() # [batch_size, seq_len, d_model]\n",
    "        # print(\"posenc\",dec_outputs)\n",
    "        dec_pad_mask = attn_padmask(pad_mask).cuda() # [batch_size, tgt_len, tgt_len]\n",
    "        dec_attnmask = attn_mask(dec_inputs).cuda() # [batch_size, tgt_len, tgt_len]\n",
    "        # print(\"padmask\",dec_pad_mask)\n",
    "        # print(\"attnmask\",dec_attnmask)\n",
    "        dec_mask = torch.gt((dec_pad_mask + dec_attnmask), 0)#.cuda() # 只要满足填充或下三角之一，就标记为1，[batch_size, tgt_len, tgt_len]\n",
    "        # print(\"dec_mask\",dec_mask)\n",
    "        for layer in self.layers:\n",
    "            # dec_outputs: [batch_size, tgt_len, d_model], dec_self_attn: [batch_size, n_heads, tgt_len, tgt_len], dec_enc_attn: [batch_size, h_heads, tgt_len, src_len]\n",
    "            dec_outputs = layer(dec_outputs, dec_mask)\n",
    "        dec_outputs = self.layernorm(dec_outputs).transpose(0, 1)\n",
    "        return dec_outputs"
   ]
  },
  {
   "cell_type": "code",
   "execution_count": null,
   "metadata": {},
   "outputs": [],
   "source": [
    "class GPT2(nn.Module):\n",
    "    def __init__(self):\n",
    "        super(GPT2, self).__init__()\n",
    "        self.decoder = Decoder()#.cuda()\n",
    "        self.projection = nn.Linear(d_model, n_vocab)#.cuda()\n",
    "\n",
    "    def forward(self, dec_inputs,attention_mask):\n",
    "        '''\n",
    "        dec_inputs: [batch_size, tgt_len]\n",
    "        '''\n",
    "        # tensor to store decoder outputs\n",
    "        # outputs = torch.zeros(batch_size, tgt_len, tgt_vocab_size).to(self.device)\n",
    "        pad_mask = attention_mask\n",
    "        dec_inputs = dec_inputs\n",
    "        \n",
    "        dec_outputs = self.decoder(dec_inputs,pad_mask)  # dec_outputs: [batch_size, tgt_len, d_model]\n",
    "        dec_logits = self.projection(dec_outputs)   # dec_logits: [batch_size, tgt_len, n_vocab]\n",
    "        return dec_logits.view(-1, dec_logits.size(-1)) # 返回 [batch_size*tgt_len, n_vocab]"
   ]
  },
  {
   "attachments": {},
   "cell_type": "markdown",
   "metadata": {},
   "source": [
    "建立模型"
   ]
  },
  {
   "cell_type": "code",
   "execution_count": null,
   "metadata": {},
   "outputs": [],
   "source": [
    "device = torch.device('cuda' if torch.cuda.is_available() else 'cpu')\n",
    "\n",
    "#model = GPT2().to(device)\n",
    "#print(model)"
   ]
  },
  {
   "attachments": {},
   "cell_type": "markdown",
   "metadata": {},
   "source": [
    "训练"
   ]
  },
  {
   "cell_type": "code",
   "execution_count": null,
   "metadata": {},
   "outputs": [],
   "source": [
    "class TrainState:\n",
    "    \"\"\"Track number of steps, examples, and tokens processed\"\"\"\n",
    "\n",
    "    step: int = 0  # Steps in the current epoch\n",
    "    accum_step: int = 0  # Number of gradient accumulation steps\n",
    "    samples: int = 0  # total # of examples used\n",
    "    tokens: int = 0  # total # of tokens processed"
   ]
  },
  {
   "cell_type": "code",
   "execution_count": null,
   "metadata": {},
   "outputs": [],
   "source": [
    "from transformers import BertTokenizer,GPT2Tokenizer\n",
    "\n",
    "tokenizer = BertTokenizer.from_pretrained(\"bert-base-chinese\")#(\"uer/gpt2-chinese-cluecorpussmall\")\n",
    "#tokenizer = GPT2Tokenizer.from_pretrained(\"gpt2\")\n",
    "'''\n",
    "#tokenizer.bos_token = tokenizer.cls_token_id\n",
    "#tokenizer.eos_token = tokenizer.sep_token_id\n",
    "#tokenizer.pad_token = tokenizer.convert_tokens_to_ids('[SEP]')\n",
    "\n",
    "with open('train.txt','r') as f:\n",
    "    data = f.readlines()\n",
    "#print(data[0])\n",
    "\n",
    "dataencode = tokenizer.batch_encode_plus(data[0:2],add_special_tokens=False, padding=\"max_length\",max_length=max_context_len, return_tensors=\"pt\")\n",
    "\n",
    "#print(tokenizer([\"这是一个测试\",\"this is another one\"],padding=\"max_length\",max_length=max_context_len,return_length=True, return_tensors=\"pt\"))\n",
    "print(dataencode['input_ids'].shape)\n",
    "print(dataencode)\n",
    "print(tokenizer.batch_decode(dataencode['input_ids']))\n",
    "a=0\n",
    "for i in dataencode['input_ids'][0]:\n",
    "    if i==8667:\n",
    "        a+=1\n",
    "print(a)\n",
    "print(tokenizer([\"这是一个测试\",\"this is another one\"],padding=\"longest\",return_tensors=\"pt\")['input_ids'])\n",
    "'''"
   ]
  },
  {
   "cell_type": "code",
   "execution_count": null,
   "metadata": {},
   "outputs": [],
   "source": [
    "from torch.utils.data import DataLoader\n",
    "from torch.utils.data import Dataset\n",
    "\n",
    "train_args = {\n",
    "    'batch_size': 32,\n",
    "    'epochs': 100\n",
    "}\n",
    "#bos, eos, pad, sep = tokenizer.bos_token_id, tokenizer.eos_token_id, tokenizer.pad_token_id, tokenizer.sep_token_id\n",
    "\n",
    "\n",
    "class MyDataSet(Dataset):\n",
    "  def __init__(self, path='train.txt'):\n",
    "    super(MyDataSet, self).__init__()\n",
    "    with open(path,'r') as f:\n",
    "      self.data = f.readlines()\n",
    "    self.encode = tokenizer.batch_encode_plus(self.data,padding=\"max_length\",truncation=True,max_length=max_context_len-1,return_tensors=\"pt\",add_special_tokens=False)\n",
    "    #for ed in self.encode['input_ids']:\n",
    "    #  ed = torch.tensor([bos])+ed+torch.tensor([eos])\n",
    "    self.input_ids = self.encode['input_ids']\n",
    "    self.attention_masks = self.encode['attention_mask']\n",
    "  \n",
    "  def __len__(self):\n",
    "    return self.input_ids.shape[0]\n",
    "  \n",
    "  def __getitem__(self, idx):\n",
    "    return self.input_ids[idx], self.attention_masks[idx]"
   ]
  },
  {
   "cell_type": "code",
   "execution_count": null,
   "metadata": {},
   "outputs": [],
   "source": [
    "train_dataset = MyDataSet()\n",
    "\n",
    "loader = DataLoader(train_dataset, batch_size = train_args['batch_size'])\n",
    "print(train_dataset.__len__())\n",
    "for dat in loader:\n",
    "    print(dat[0].shape)\n",
    "    #dat[0] = torch.concat([dat[0],torch.tensor([[0]]).expand(dat[0].shape[0],1)], -1)\n",
    "    print(dat[0])"
   ]
  },
  {
   "cell_type": "code",
   "execution_count": null,
   "metadata": {},
   "outputs": [],
   "source": [
    "def train(model, train_args, train_dataset = MyDataSet(), train_state=TrainState(), PATH = 'model_checkpoint/checkpoint', mode=\"train\"):\n",
    "    train_dataloader = DataLoader(train_dataset, batch_size = train_args['batch_size'])\n",
    "    \n",
    "    model.train()\n",
    "    criterion = nn.CrossEntropyLoss(ignore_index=0)\n",
    "    # optimizer = optim.SGD(model.parameters(), lr=5e-4, momentum=0.99)\n",
    "    optimizer = optim.Adam(model.parameters(), lr = 1e-5)\n",
    "    scheduler = optim.lr_scheduler.StepLR(optimizer, step_size = 100, gamma = 0.1)\n",
    "    running_loss = 0\n",
    "    oom_time = 0\n",
    "    accum_iter = 1\n",
    "\n",
    "    for epoch in range(train_args['epochs']):\n",
    "        \"\"\"Train a single epoch\"\"\"\n",
    "        start = time.time()\n",
    "        total_tokens = 0\n",
    "        total_loss = 0\n",
    "        tokens = 0\n",
    "        n_accum = 0\n",
    "\n",
    "        for i, inputs in enumerate(train_dataloader):\n",
    "            # batch = [batch_size, tgt_len]\n",
    "            # out = [batch_size*tgt_len, n_vocab]\n",
    "            #labels = []\n",
    "            labels = torch.concat([inputs[0],torch.tensor([[tokenizer.convert_tokens_to_ids('[SEP]')]]).expand(inputs[0].shape[0],1)], -1)\n",
    "            #labels[1] = torch.concat([inputs[1], torch.tensor([[0]]).expand(inputs[1].shape[0],1)], -1)\n",
    "            inputs[0] = torch.concat([torch.tensor([[tokenizer.convert_tokens_to_ids('[CLS]')]]).expand(inputs[0].shape[0],1),inputs[0]], -1)\n",
    "            inputs[1] = torch.concat([torch.tensor([[0]]).expand(inputs[1].shape[0],1),inputs[1]], -1)\n",
    "            \n",
    "            batch = inputs[0].to(device)\n",
    "            batch_mask = inputs[1].to(device)\n",
    "            labels = labels.to(device)\n",
    "            try:\n",
    "                out = model(\n",
    "                    batch,\n",
    "                    batch_mask\n",
    "                )\n",
    "                #print(batch.shape)\n",
    "                #print(out.shape)\n",
    "                loss = criterion(out, labels.view(-1))\n",
    "                #loss = criterion(out, batch.view(-1))\n",
    "                # loss_node = loss_node / accum_iter\n",
    "                if mode == \"train\":# or mode == \"train+log\":\n",
    "                    loss.backward()\n",
    "                    train_state.step += 1\n",
    "                    #train_state.samples += batch.src.shape[0]\n",
    "                    train_state.samples += batch.shape[0]\n",
    "                    train_state.tokens += batch.shape[0]*batch.shape[1]\n",
    "                    if i % accum_iter == 0:\n",
    "                        optimizer.step()\n",
    "                        optimizer.zero_grad(set_to_none=True)\n",
    "                        scheduler.step()\n",
    "                        n_accum += 1\n",
    "                        train_state.accum_step += 1\n",
    "\n",
    "                total_loss += loss\n",
    "                total_tokens += batch.shape[0]*batch.shape[1]\n",
    "                tokens += batch.shape[0]*batch.shape[1]\n",
    "                if i % 20 == 0 and (mode == \"train\"): # or mode == \"train+log\"):\n",
    "                    lr = optimizer.param_groups[0][\"lr\"]\n",
    "                    elapsed = time.time() - start\n",
    "                    print(\n",
    "                        (\n",
    "                            \"Epoch Step: %6d | Accumulation Step: %3d | Loss: %6.2f \"\n",
    "                            + \"| Tokens / Sec: %7.1f | Learning Rate: %6.1e\"\n",
    "                        )\n",
    "                        % (i, n_accum, loss, tokens / elapsed, lr)\n",
    "                    )\n",
    "                    start = time.time()\n",
    "                    tokens = 0\n",
    "                del loss\n",
    "            except RuntimeError as exception:\n",
    "                if \"out of memory\" in str(exception):\n",
    "                    oom_time += 1\n",
    "                    print(\"WARNING: ran out of memory for {} times\".format(oom_time))\n",
    "                    if hasattr(torch.cuda, 'empty_cache'):\n",
    "                        torch.cuda.empty_cache()\n",
    "                else:\n",
    "                    print(str(exception))\n",
    "                    raise exception\n",
    "        \n",
    "        if epoch % 10 == 0:\n",
    "            torch.save(model.state_dict(), PATH+'_{}.pth'.format(epoch))\n",
    "        print('epoch {}/{} finished'.format(epoch+1,train_args['epochs']))"
   ]
  },
  {
   "cell_type": "code",
   "execution_count": null,
   "metadata": {},
   "outputs": [],
   "source": [
    "#train(model,train_args)"
   ]
  },
  {
   "attachments": {},
   "cell_type": "markdown",
   "metadata": {},
   "source": [
    "保存模型并加载"
   ]
  },
  {
   "cell_type": "code",
   "execution_count": null,
   "metadata": {},
   "outputs": [],
   "source": [
    "PATH = 'model_save/model_finals.pth'\n",
    "#PATH = 'model_checkpoint/checkpoint_0_steps50000.pth'\n",
    "#torch.save(model.state_dict(), PATH)"
   ]
  },
  {
   "cell_type": "code",
   "execution_count": null,
   "metadata": {},
   "outputs": [],
   "source": [
    "model1 = GPT2()\n",
    "model1.load_state_dict(torch.load(PATH,map_location={'cuda:4':'cuda:0'}))"
   ]
  },
  {
   "cell_type": "code",
   "execution_count": null,
   "metadata": {},
   "outputs": [],
   "source": [
    "from random import randint\n",
    "\n",
    "def prediction(dec_output, top_k=0):\n",
    "    # \n",
    "    top_k = min(top_k, dec_output.shape[-1])  # Safety check\n",
    "    if top_k > 1:\n",
    "        # Remove all tokens with a probability less than the last token of the top-k\n",
    "        dec_output = torch.topk(dec_output, top_k)[1][:, randint(0,top_k-1)]\n",
    "    return dec_output[-1]\n",
    "    # return dec_output.max(-1)[1]\n",
    "\n",
    "def greedy_decoder(model, inputs, gen_len=100, start_symbol='[CLS]'):\n",
    "    terminal = False\n",
    "    start_len = len(inputs['input_ids'][0])\n",
    "    next_symbol = start_symbol\n",
    "\n",
    "    while not terminal:\n",
    "        if len(inputs['input_ids'][0]) - start_len > gen_len:\n",
    "            next_symbol = tokenizer.convert_tokens_to_ids('[PAD]')\n",
    "            inputs['input_ids'] = torch.cat([inputs['input_ids'].detach(), torch.tensor([[next_symbol]],dtype=inputs['input_ids'].dtype,device=device)],-1)\n",
    "            inputs['attention_mask'] = torch.cat([inputs['attention_mask'].detach(), torch.tensor([[0]],device=device)],-1)\n",
    "            break\n",
    "        output = model(inputs['input_ids'], inputs['attention_mask'])\n",
    "        pred = prediction(output,5)\n",
    "        next_symbol = pred\n",
    "        \n",
    "        if next_symbol == tokenizer.convert_tokens_to_ids('[SEP]'):\n",
    "            # or next_symbol == tokenizer.convert_tokens_to_ids('，')\n",
    "            terminal = True\n",
    "\n",
    "        inputs['input_ids'] = torch.cat([inputs['input_ids'].detach(), torch.tensor([[next_symbol]],dtype=inputs['input_ids'].dtype,device=device)],-1)\n",
    "        inputs['attention_mask'] = torch.cat([inputs['attention_mask'].detach(), torch.tensor([[1]],device=device)],-1)\n",
    "\n",
    "    return inputs['input_ids']\n",
    "\n",
    "\n",
    "#test_str = '你要能到林荫中去有多好！——那儿有一座高高的山'\n",
    "# test_str = '你要能到林荫中去有多好！那儿有一座高高的山'\n",
    "test_str = '难道还怕火焰不成？'\n",
    "test_encode = tokenizer.encode_plus('[CLS]'+test_str, add_special_tokens=False,return_tensors=\"pt\",truncation=True).to(device)\n",
    "model1.to(device)\n",
    "result = greedy_decoder(model1, test_encode)\n",
    "\n",
    "print(result.shape[1]-len(test_str))\n",
    "print(tokenizer.decode(result[0]))"
   ]
  },
  {
   "cell_type": "code",
   "execution_count": null,
   "metadata": {},
   "outputs": [],
   "source": [
    "test_str = '你要能到林荫中去有多好！——那儿有一座高高的山'\n",
    "#test_str = '你，好朋友，你的意'\n",
    "#tokenizer.pad_token = tokenizer.eos_token\n",
    "#test_encode = tokenizer.encode_plus('[CLS]'+test_str, add_special_tokens=False,return_tensors=\"pt\",padding=\"max_length\",truncation=True,max_length=max_context_len-1) # input 的 [PAD] 会生成 output 的 [SEP]\n",
    "test_encode = tokenizer.encode_plus('[CLS]'+test_str, add_special_tokens=False,return_tensors=\"pt\",truncation=True) # input 的 [PAD] 会生成 output 的 [SEP]\n",
    "print('encode',test_encode['input_ids'].shape)\n",
    "\n",
    "#test_encode['input_ids'] = torch.concat([torch.tensor([[tokenizer.convert_tokens_to_ids('[CLS]')]]),test_encode['input_ids']],-1)\n",
    "#test_encode['attention_mask'] = torch.concat([torch.tensor([[0]]),test_encode['attention_mask']],-1)\n",
    "\n",
    "\n",
    "#print('encode',test_encode)\n",
    "\n",
    "test_out = model(test_encode['input_ids'].to(device),test_encode['attention_mask'].to(device))\n",
    "\n",
    "\n",
    "#print('output',test_out)\n",
    "print(test_encode['input_ids'].shape)\n",
    "print(test_out.shape)\n",
    "tok = torch.topk(test_out, 3)\n",
    "print('tok',tok.indices.shape,tok)\n",
    "test_pred = test_out.max(-1)[1]\n",
    "#test_pred = test_pred[1:]\n",
    "print(test_pred.shape)\n",
    "#print(len(test_pred))\n",
    "print(test_pred)\n",
    "print(tokenizer.decode(test_encode['input_ids'][0]))\n",
    "print(tokenizer.decode(test_pred))"
   ]
  },
  {
   "cell_type": "code",
   "execution_count": null,
   "metadata": {},
   "outputs": [],
   "source": [
    "print(tok[0])\n",
    "print(tok[0][:,-1].shape)"
   ]
  },
  {
   "cell_type": "code",
   "execution_count": null,
   "metadata": {},
   "outputs": [],
   "source": [
    "model_size = sum(t.numel() for t in model.parameters())\n",
    "print(model_size/1000**2)"
   ]
  }
 ],
 "metadata": {
  "kernelspec": {
   "display_name": "py39",
   "language": "python",
   "name": "python3"
  },
  "language_info": {
   "codemirror_mode": {
    "name": "ipython",
    "version": 3
   },
   "file_extension": ".py",
   "mimetype": "text/x-python",
   "name": "python",
   "nbconvert_exporter": "python",
   "pygments_lexer": "ipython3",
   "version": "3.9.1"
  },
  "orig_nbformat": 4
 },
 "nbformat": 4,
 "nbformat_minor": 2
}
