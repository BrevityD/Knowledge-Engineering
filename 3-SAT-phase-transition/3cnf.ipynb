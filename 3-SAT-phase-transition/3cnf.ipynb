{
 "cells": [
  {
   "cell_type": "code",
   "execution_count": 2,
   "metadata": {},
   "outputs": [
    {
     "name": "stdout",
     "output_type": "stream",
     "text": [
      "formula is satisfiable\n",
      "and the model is: [-1, -2, -3]\n",
      "formula is satisfiable assuming x1 and x2\n",
      "and the unsatisfiable core is: None\n"
     ]
    }
   ],
   "source": [
    "from pysat.formula import CNF\n",
    "from pysat.solvers import Solver\n",
    "\n",
    "# create a satisfiable CNF formula \"(-x1 ∨ x2) ∧ (-x1 ∨ -x2)\":\n",
    "cnf = [CNF(from_clauses=[[1,-3]]), CNF(from_clauses=[[-1, 2], [-1, -2]])]\n",
    "\n",
    "# create a SAT solver for this formula:\n",
    "with Solver(bootstrap_with=cnf[0]) as solver:\n",
    "    # 1.1 call the solver for this formula:\n",
    "    print('formula is', f'{\"s\" if solver.solve() else \"uns\"}atisfiable')\n",
    "\n",
    "    # 1.2 the formula is satisfiable and so has a model:\n",
    "    print('and the model is:', solver.get_model())\n",
    "\n",
    "    # 2.1 apply the MiniSat-like assumption interface:\n",
    "    print('formula is',\n",
    "        f'{\"s\" if solver.solve(assumptions=[1, 2]) else \"uns\"}atisfiable',\n",
    "        'assuming x1 and x2')\n",
    "\n",
    "    # 2.2 the formula is unsatisfiable,\n",
    "    # i.e. an unsatisfiable core can be extracted:\n",
    "    print('and the unsatisfiable core is:', solver.get_core())"
   ]
  },
  {
   "cell_type": "code",
   "execution_count": 3,
   "metadata": {},
   "outputs": [],
   "source": [
    "# 共 50 个变量\n",
    "# 10000 个子句分配为每组 ratio*50 个\n",
    "# 其中有 num_satisfied_clauses 组可满足的\n",
    "# 占比为 num_satisfied_clauses*ratio*50/10000"
   ]
  },
  {
   "cell_type": "markdown",
   "metadata": {},
   "source": [
    "# 随机生成3CNF\n",
    "\n",
    "设定50个变量和10000个子句，利用随机数生成3CNF"
   ]
  },
  {
   "cell_type": "code",
   "execution_count": 1,
   "metadata": {},
   "outputs": [
    {
     "name": "stdout",
     "output_type": "stream",
     "text": [
      "10000\n",
      "[32, -22, -37]\n"
     ]
    }
   ],
   "source": [
    "from random import randint\n",
    "\n",
    "num_variables = 50\n",
    "num_clauses = 10000\n",
    "clauses = []\n",
    "\n",
    "for _ in range(num_clauses):\n",
    "    clause = []\n",
    "    clause_bin = bin(randint(0, 8-1))[2:]\n",
    "    clause_bin = \"0\"*(3-len(clause_bin)) + clause_bin\n",
    "    \n",
    "    assert len(clause_bin)==3\n",
    "\n",
    "    for cb in clause_bin:\n",
    "        clause.append(randint(1,num_variables)*(-1)**int(cb))\n",
    "    while len(clause) != len(set(clause)): # 当随机生成的数字重复\n",
    "        clause = list(set(clause))\n",
    "        clause.append(randint(1,num_variables))\n",
    "    clauses.append(clause)\n",
    "\n",
    "print(len(clauses))\n",
    "print(clauses[0])"
   ]
  },
  {
   "cell_type": "code",
   "execution_count": 2,
   "metadata": {},
   "outputs": [
    {
     "name": "stderr",
     "output_type": "stream",
     "text": [
      "100%|██████████| 40/40 [00:00<00:00, 1666.66it/s]"
     ]
    },
    {
     "name": "stdout",
     "output_type": "stream",
     "text": [
      "7\n",
      "0.175\n"
     ]
    },
    {
     "name": "stderr",
     "output_type": "stream",
     "text": [
      "\n"
     ]
    }
   ],
   "source": [
    "from math import floor\n",
    "from tqdm import tqdm\n",
    "from pysat.formula import CNF\n",
    "from pysat.solvers import Solver\n",
    "\n",
    "ratio = 5\n",
    "batch_size_clauses = int(ratio*num_variables)\n",
    "num_batch = floor(num_clauses/batch_size_clauses)\n",
    "num_satisfied_clauses = 0\n",
    "\n",
    "batch_clauses = [clauses[i*batch_size_clauses:(i+1)*batch_size_clauses] for i in range(num_batch)]\n",
    "\n",
    "loop = tqdm(batch_clauses)\n",
    "# create a SAT solver for this formula:\n",
    "for batch_clause in loop:\n",
    "    with Solver(bootstrap_with=CNF(from_clauses=batch_clause)) as solver:\n",
    "        if solver.solve():\n",
    "            num_satisfied_clauses += 1\n",
    "print(num_satisfied_clauses)\n",
    "print(num_satisfied_clauses*batch_size_clauses/10000)"
   ]
  },
  {
   "cell_type": "code",
   "execution_count": 7,
   "metadata": {},
   "outputs": [
    {
     "name": "stdout",
     "output_type": "stream",
     "text": [
      "--10000 clauses with variables 25 generated successfully--\n"
     ]
    },
    {
     "name": "stderr",
     "output_type": "stream",
     "text": [
      "ratio: 100%|██████████| 300/300 [00:07<00:00, 39.72it/s]\n"
     ]
    },
    {
     "name": "stdout",
     "output_type": "stream",
     "text": [
      "(300, 2)\n",
      "--10000 clauses with variables 50 generated successfully--\n"
     ]
    },
    {
     "name": "stderr",
     "output_type": "stream",
     "text": [
      "ratio: 100%|██████████| 300/300 [00:15<00:00, 19.83it/s]\n"
     ]
    },
    {
     "name": "stdout",
     "output_type": "stream",
     "text": [
      "(300, 2)\n",
      "--10000 clauses with variables 100 generated successfully--\n"
     ]
    },
    {
     "name": "stderr",
     "output_type": "stream",
     "text": [
      "ratio: 100%|██████████| 300/300 [00:37<00:00,  7.92it/s]"
     ]
    },
    {
     "name": "stdout",
     "output_type": "stream",
     "text": [
      "(300, 2)\n"
     ]
    },
    {
     "name": "stderr",
     "output_type": "stream",
     "text": [
      "\n"
     ]
    }
   ],
   "source": [
    "import numpy as np\n",
    "from random import randint\n",
    "from copy import deepcopy\n",
    "from tqdm import tqdm\n",
    "from pysat.formula import CNF\n",
    "from pysat.solvers import Solver\n",
    "\n",
    "result = {}\n",
    "max_num_clauses = 10000\n",
    "\n",
    "for num_variables in [25, 50, 100]:#, 200]:#, 500]:\n",
    "    x = []\n",
    "    clauses = []\n",
    "    num_batch = 100\n",
    "\n",
    "    for _ in range(max_num_clauses):\n",
    "        clause = []\n",
    "        clause_bin = bin(randint(0, 8-1))[2:]\n",
    "        clause_bin = \"0\"*(3-len(clause_bin)) + clause_bin\n",
    "    \n",
    "        assert len(clause_bin)==3\n",
    "\n",
    "        for cb in clause_bin:\n",
    "            clause.append(randint(1,num_variables)*(-1)**int(cb))\n",
    "        while len(clause) != len(set(clause)):\n",
    "            clause = list(set(clause))\n",
    "            clause.append(randint(1,num_variables))\n",
    "        clauses.append(clause)\n",
    "    \n",
    "    print(f\"--{len(clauses)} clauses with variables {num_variables} generated successfully--\")\n",
    "\n",
    "    for ratio in tqdm(np.arange(3,6,0.01), desc=\"ratio\"):\n",
    "        batch_size_clauses = int(ratio*num_variables)\n",
    "        num_clauses = num_batch*batch_size_clauses\n",
    "\n",
    "        num_satisfied_clauses = 0\n",
    "\n",
    "        batch_clauses = [clauses[100*i:100*i + batch_size_clauses] for i in range(num_batch-int(batch_size_clauses*num_batch/max_num_clauses))]\n",
    "\n",
    "        # loop = tqdm(batch_clauses)\n",
    "        for batch_clause in batch_clauses:\n",
    "            with Solver(bootstrap_with=CNF(from_clauses=batch_clause)) as solver:\n",
    "                if solver.solve():\n",
    "                    num_satisfied_clauses += 1\n",
    "        x.append([ratio, num_satisfied_clauses/num_batch])\n",
    "    result[num_variables] = np.array(x)\n",
    "    print(result[num_variables].shape)"
   ]
  },
  {
   "cell_type": "code",
   "execution_count": 8,
   "metadata": {},
   "outputs": [
    {
     "data": {
      "image/png": "[encoded data removed]",
      "text/plain": [
       "<Figure size 640x480 with 1 Axes>"
      ]
     },
     "metadata": {},
     "output_type": "display_data"
    }
   ],
   "source": [
    "import matplotlib.pyplot as plt\n",
    "\n",
    "color = {\n",
    "    10: 'g',\n",
    "    25: 'b',\n",
    "    50: 'k',\n",
    "    100: 'r',\n",
    "    200: 'c',\n",
    "    500: 'y'\n",
    "}\n",
    "\n",
    "for num_variable in result.keys():\n",
    "    np.save(f\"variable_{num_variable}.npy\", \"w\")\n",
    "    plt.plot(result[num_variable][:,0], result[num_variable][:,1], color[num_variable], label=num_variable)\n",
    "plt.legend()\n",
    "plt.show()"
   ]
  },
  {
   "cell_type": "code",
   "execution_count": 125,
   "metadata": {},
   "outputs": [
    {
     "name": "stdout",
     "output_type": "stream",
     "text": [
      "5 (25, 2)\n",
      "10 (25, 2)\n",
      "25 (25, 2)\n",
      "50 (25, 2)\n"
     ]
    }
   ],
   "source": [
    "for key in result.keys():\n",
    "    print(key, result[key].shape)"
   ]
  },
  {
   "cell_type": "code",
   "execution_count": 121,
   "metadata": {},
   "outputs": [
    {
     "data": {
      "text/plain": [
       "[<matplotlib.lines.Line2D at 0x1cf0ca2b200>]"
      ]
     },
     "execution_count": 121,
     "metadata": {},
     "output_type": "execute_result"
    },
    {
     "data": {
      "image/png": "[encoded data removed]",
      "text/plain": [
       "<Figure size 640x480 with 1 Axes>"
      ]
     },
     "metadata": {},
     "output_type": "display_data"
    }
   ],
   "source": [
    "import matplotlib.pyplot as plt\n",
    "\n",
    "x = np.array(x)\n",
    "\n",
    "plt.plot(x[:,0], x[:,1])"
   ]
  }
 ],
 "metadata": {
  "kernelspec": {
   "display_name": "py12",
   "language": "python",
   "name": "python3"
  },
  "language_info": {
   "codemirror_mode": {
    "name": "ipython",
    "version": 3
   },
   "file_extension": ".py",
   "mimetype": "text/x-python",
   "name": "python",
   "nbconvert_exporter": "python",
   "pygments_lexer": "ipython3",
   "version": "3.12.0"
  },
  "orig_nbformat": 4
 },
 "nbformat": 4,
 "nbformat_minor": 2
}
